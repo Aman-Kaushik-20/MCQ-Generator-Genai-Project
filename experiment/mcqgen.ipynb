{
 "cells": [
  {
   "cell_type": "code",
   "execution_count": 333,
   "metadata": {},
   "outputs": [],
   "source": [
    "import os\n",
    "import json\n",
    "import pandas as pd\n",
    "import traceback"
   ]
  },
  {
   "cell_type": "code",
   "execution_count": 334,
   "metadata": {},
   "outputs": [],
   "source": [
    "from langchain.chat_models import ChatOpenAI"
   ]
  },
  {
   "cell_type": "markdown",
   "metadata": {},
   "source": [
    "IGNORE"
   ]
  },
  {
   "cell_type": "markdown",
   "metadata": {},
   "source": [
    "START"
   ]
  },
  {
   "cell_type": "code",
   "execution_count": 327,
   "metadata": {},
   "outputs": [
    {
     "data": {
      "text/plain": [
       "True"
      ]
     },
     "execution_count": 327,
     "metadata": {},
     "output_type": "execute_result"
    }
   ],
   "source": [
    "from dotenv import load_dotenv\n",
    "\n",
    "load_dotenv()  # take environment variables from .env."
   ]
  },
  {
   "cell_type": "code",
   "execution_count": 329,
   "metadata": {},
   "outputs": [
    {
     "name": "stdout",
     "output_type": "stream",
     "text": [
      ".env file found at: c:\\Users\\Aman\\Desktop\\genai MCQ Project\\MCQ-Generator-Genai-Project\\.env\n",
      "API Key: setx OPENAI_API_KEY your-api-key-here\n"
     ]
    }
   ],
   "source": [
    "from dotenv import load_dotenv, find_dotenv\n",
    "import os\n",
    "\n",
    "# Explicitly find the .env file\n",
    "dotenv_path = find_dotenv()\n",
    "if dotenv_path == \"\":\n",
    "    print(\"Could not find .env file\")\n",
    "else:\n",
    "    print(f\".env file found at: {dotenv_path}\")\n",
    "\n",
    "# Load environment variables from .env file\n",
    "load_dotenv(dotenv_path)\n",
    "\n",
    "# Retrieve the environment variable\n",
    "KEY = os.getenv('OPENAI_API_KEY')\n",
    "\n",
    "# Print the key to verify\n",
    "print(f'API Key: {KEY}')\n"
   ]
  },
  {
   "cell_type": "markdown",
   "metadata": {},
   "source": [
    "END "
   ]
  },
  {
   "cell_type": "code",
   "execution_count": 361,
   "metadata": {},
   "outputs": [
    {
     "name": "stdout",
     "output_type": "stream",
     "text": [
      "API Key: sk-proj-yDirk9Kal6pNFSoTU48QT3BlbkFJo9A1XnmyWUf6L35WJ8LK\n"
     ]
    }
   ],
   "source": [
    "import os\n",
    "\n",
    "# Set the OpenAI API key directly\n",
    "os.environ['OPENAI_API_KEY'] = 'sk-proj-yDirk9Kal6pNFSoTU48QT3BlbkFJo9A1XnmyWUf6L35WJ8LK'\n",
    "\n",
    "# Now retrieve the environment variable\n",
    "KEY = os.getenv('OPENAI_API_KEY')\n",
    "\n",
    "# Print the key to verify\n",
    "print(f'API Key: {KEY}')\n"
   ]
  },
  {
   "cell_type": "code",
   "execution_count": 364,
   "metadata": {},
   "outputs": [],
   "source": [
    "llm=ChatOpenAI(openai_api_key\n",
    "               =KEY,model_name=\"gpt-3.5-turbo\", temperature=0.5)"
   ]
  },
  {
   "cell_type": "code",
   "execution_count": 365,
   "metadata": {},
   "outputs": [
    {
     "data": {
      "text/plain": [
       "ChatOpenAI(client=<openai.resources.chat.completions.Completions object at 0x0000014FB6891210>, async_client=<openai.resources.chat.completions.AsyncCompletions object at 0x0000014FB6893C40>, temperature=0.5, openai_api_key='sk-proj-yDirk9Kal6pNFSoTU48QT3BlbkFJo9A1XnmyWUf6L35WJ8LK', openai_proxy='')"
      ]
     },
     "execution_count": 365,
     "metadata": {},
     "output_type": "execute_result"
    }
   ],
   "source": [
    "llm"
   ]
  },
  {
   "cell_type": "code",
   "execution_count": 366,
   "metadata": {},
   "outputs": [],
   "source": [
    "from langchain.llms import OpenAI\n",
    "from langchain.prompts import PromptTemplate\n",
    "from langchain.chains import LLMChain\n",
    "from langchain.chains import SequentialChain\n",
    "from langchain.callbacks import get_openai_callback\n",
    "import PyPDF2"
   ]
  },
  {
   "cell_type": "code",
   "execution_count": 367,
   "metadata": {},
   "outputs": [],
   "source": [
    "with open(r\"C:\\Users\\Aman\\Desktop\\genai MCQ Project\\MCQ-Generator-Genai-Project\\Response.json\", \"r\") as f:\n",
    "    RESPONSE_JSON=json.load(f)"
   ]
  },
  {
   "cell_type": "code",
   "execution_count": 368,
   "metadata": {},
   "outputs": [
    {
     "data": {
      "text/plain": [
       "{'1': {'mcq': 'multiple choice question',\n",
       "  'options': {'a': 'choice here',\n",
       "   'b': 'choice here',\n",
       "   'c': 'choice here',\n",
       "   'd': 'choice here'},\n",
       "  'correct': 'correct answer'},\n",
       " '2': {'mcq': 'multiple choice question',\n",
       "  'options': {'a': 'choice here',\n",
       "   'b': 'choice here',\n",
       "   'c': 'choice here',\n",
       "   'd': 'choice here'},\n",
       "  'correct': 'correct answer'},\n",
       " '3': {'mcq': 'multiple choice question',\n",
       "  'options': {'a': 'choice here',\n",
       "   'b': 'choice here',\n",
       "   'c': 'choice here',\n",
       "   'd': 'choice here'},\n",
       "  'correct': 'correct answer'}}"
      ]
     },
     "execution_count": 368,
     "metadata": {},
     "output_type": "execute_result"
    }
   ],
   "source": [
    "RESPONSE_JSON"
   ]
  },
  {
   "cell_type": "code",
   "execution_count": 369,
   "metadata": {},
   "outputs": [],
   "source": [
    "TEMPLATE=\"\"\"\n",
    "Text:{text}\n",
    "You are an expert MCQ maker. Given the above text, it is your job to \\\n",
    "create a quiz  of {number} multiple choice questions for {subject} students in {tone} tone. \n",
    "Make sure the questions are not repeated and check all the questions to be conforming the text as well.\n",
    "Make sure to format your response like  RESPONSE_JSON below  and use it as a guide. \\\n",
    "Ensure to make {number} MCQs\n",
    "### RESPONSE_JSON\n",
    "{RESPONSE_JSON}\n",
    "\n",
    "\"\"\""
   ]
  },
  {
   "cell_type": "code",
   "execution_count": 370,
   "metadata": {},
   "outputs": [],
   "source": [
    "quiz_generation_prompt = PromptTemplate(\n",
    "    input_variables=[\"text\", \"number\", \"subject\", \"tone\", \"RESPONSE_JSON\"],\n",
    "    template=TEMPLATE\n",
    ")"
   ]
  },
  {
   "cell_type": "code",
   "execution_count": 371,
   "metadata": {},
   "outputs": [],
   "source": [
    "quiz_chain=LLMChain(llm=llm, prompt=quiz_generation_prompt, output_key='quiz', verbose=True)"
   ]
  },
  {
   "cell_type": "code",
   "execution_count": 372,
   "metadata": {},
   "outputs": [],
   "source": [
    "TEMPLATE2=\"\"\"\n",
    "You are an expert english grammarian and writer. Given a Multiple Choice Quiz for {subject} students.\\\n",
    "You need to evaluate the complexity of the question and give a complete analysis of the quiz. Only use at max 50 words for complexity analysis. \n",
    "if the quiz is not at per with the cognitive and analytical abilities of the students,\\\n",
    "update the quiz questions which needs to be changed and change the tone such that it perfectly fits the student abilities\n",
    "Quiz_MCQs:\n",
    "{quiz}\n",
    "\n",
    "Check from an expert English Writer of the above quiz:\n",
    "\"\"\""
   ]
  },
  {
   "cell_type": "code",
   "execution_count": 373,
   "metadata": {},
   "outputs": [],
   "source": [
    "quiz_evaluation_prompt=PromptTemplate(\n",
    "    input_variables=[\"subject\", \"quiz\"],\n",
    "    template=TEMPLATE2\n",
    "    )"
   ]
  },
  {
   "cell_type": "code",
   "execution_count": 374,
   "metadata": {},
   "outputs": [],
   "source": [
    "review_chain=LLMChain(llm=llm, prompt=quiz_evaluation_prompt, output_key='review', verbose=True)"
   ]
  },
  {
   "cell_type": "code",
   "execution_count": 375,
   "metadata": {},
   "outputs": [],
   "source": [
    "generate_evaluate_chain=SequentialChain(\n",
    "    chains=[quiz_chain, review_chain], \n",
    "    input_variables=[\"text\", \"number\", \"subject\", \"tone\", \"RESPONSE_JSON\"],\n",
    "    output_variables=[\"quiz\", \"review\"], \n",
    "    verbose=True,\n",
    "    )"
   ]
  },
  {
   "cell_type": "code",
   "execution_count": 376,
   "metadata": {},
   "outputs": [],
   "source": [
    "PATH = r\"C:\\Users\\Aman\\Desktop\\genai MCQ Project\\MCQ-Generator-Genai-Project\\data.txt\""
   ]
  },
  {
   "cell_type": "code",
   "execution_count": 377,
   "metadata": {},
   "outputs": [
    {
     "name": "stdout",
     "output_type": "stream",
     "text": [
      "C:\\Users\\Aman\\Desktop\\genai MCQ Project\\MCQ-Generator-Genai-Project\\data.txt\n"
     ]
    }
   ],
   "source": [
    "print(PATH)"
   ]
  },
  {
   "cell_type": "code",
   "execution_count": 378,
   "metadata": {},
   "outputs": [],
   "source": [
    "with open(PATH, \"r\") as file:\n",
    "    TEXT=file.read()    "
   ]
  },
  {
   "cell_type": "code",
   "execution_count": 379,
   "metadata": {},
   "outputs": [
    {
     "data": {
      "text/plain": [
       "'Recent progress in generative models have resulted in models that can produce realistic text, images and video that can potentially revolutionize the way humans work, create content and interact with machines. The workshop on Generative AI at AIMLSystems will focus on the entire life-cycle of building and deploying such Generative AI systems, including data collection and processing, developing systems and requisite infrastructure, applications it enables, and the ethics associated with such technology covering concerns related to fairness, transparency and accountability. We invite original, unpublished work on Artificial Intelligence with a focus on generative AI and their use cases. Specifically, the topics of interest include but are not limited to: \\n\\n\\nSystems, architecture and infrastructure for Gen AI\\nFoundation models and their applications\\nMulti-modal Gen AI \\nRetrieval Augmented Generated\\nGen AI based plugins and agents\\nLearning from human preferences \\nEvaluation of foundation models\\nML Ops for Gen AI\\nInstruction tuning and instruction following\\nResponsible Gen AI\\nLarge language model performance benchmarking'"
      ]
     },
     "execution_count": 379,
     "metadata": {},
     "output_type": "execute_result"
    }
   ],
   "source": [
    "TEXT"
   ]
  },
  {
   "cell_type": "code",
   "execution_count": 380,
   "metadata": {},
   "outputs": [],
   "source": [
    "##MCQ ko generate krwana hai"
   ]
  },
  {
   "cell_type": "code",
   "execution_count": 381,
   "metadata": {},
   "outputs": [
    {
     "data": {
      "text/plain": [
       "{'1': {'mcq': 'multiple choice question',\n",
       "  'options': {'a': 'choice here',\n",
       "   'b': 'choice here',\n",
       "   'c': 'choice here',\n",
       "   'd': 'choice here'},\n",
       "  'correct': 'correct answer'},\n",
       " '2': {'mcq': 'multiple choice question',\n",
       "  'options': {'a': 'choice here',\n",
       "   'b': 'choice here',\n",
       "   'c': 'choice here',\n",
       "   'd': 'choice here'},\n",
       "  'correct': 'correct answer'},\n",
       " '3': {'mcq': 'multiple choice question',\n",
       "  'options': {'a': 'choice here',\n",
       "   'b': 'choice here',\n",
       "   'c': 'choice here',\n",
       "   'd': 'choice here'},\n",
       "  'correct': 'correct answer'}}"
      ]
     },
     "execution_count": 381,
     "metadata": {},
     "output_type": "execute_result"
    }
   ],
   "source": [
    "RESPONSE_JSON"
   ]
  },
  {
   "cell_type": "code",
   "execution_count": 382,
   "metadata": {},
   "outputs": [
    {
     "data": {
      "text/plain": [
       "'{\"1\": {\"mcq\": \"multiple choice question\", \"options\": {\"a\": \"choice here\", \"b\": \"choice here\", \"c\": \"choice here\", \"d\": \"choice here\"}, \"correct\": \"correct answer\"}, \"2\": {\"mcq\": \"multiple choice question\", \"options\": {\"a\": \"choice here\", \"b\": \"choice here\", \"c\": \"choice here\", \"d\": \"choice here\"}, \"correct\": \"correct answer\"}, \"3\": {\"mcq\": \"multiple choice question\", \"options\": {\"a\": \"choice here\", \"b\": \"choice here\", \"c\": \"choice here\", \"d\": \"choice here\"}, \"correct\": \"correct answer\"}}'"
      ]
     },
     "execution_count": 382,
     "metadata": {},
     "output_type": "execute_result"
    }
   ],
   "source": [
    "import json\n",
    "json.dumps(RESPONSE_JSON)"
   ]
  },
  {
   "cell_type": "code",
   "execution_count": 383,
   "metadata": {},
   "outputs": [],
   "source": [
    "NUMBER=5 \n",
    "SUBJECT=\"AI\"\n",
    "TONE=\"Simple\"\n",
    "RESPONSE_JSON=RESPONSE_JSON"
   ]
  },
  {
   "cell_type": "code",
   "execution_count": 384,
   "metadata": {},
   "outputs": [],
   "source": [
    "response_json_str=json.dumps(RESPONSE_JSON)"
   ]
  },
  {
   "cell_type": "code",
   "execution_count": 385,
   "metadata": {},
   "outputs": [
    {
     "data": {
      "text/plain": [
       "{'1': {'mcq': 'multiple choice question',\n",
       "  'options': {'a': 'choice here',\n",
       "   'b': 'choice here',\n",
       "   'c': 'choice here',\n",
       "   'd': 'choice here'},\n",
       "  'correct': 'correct answer'},\n",
       " '2': {'mcq': 'multiple choice question',\n",
       "  'options': {'a': 'choice here',\n",
       "   'b': 'choice here',\n",
       "   'c': 'choice here',\n",
       "   'd': 'choice here'},\n",
       "  'correct': 'correct answer'},\n",
       " '3': {'mcq': 'multiple choice question',\n",
       "  'options': {'a': 'choice here',\n",
       "   'b': 'choice here',\n",
       "   'c': 'choice here',\n",
       "   'd': 'choice here'},\n",
       "  'correct': 'correct answer'}}"
      ]
     },
     "execution_count": 385,
     "metadata": {},
     "output_type": "execute_result"
    }
   ],
   "source": [
    "RESPONSE_JSON"
   ]
  },
  {
   "cell_type": "code",
   "execution_count": 386,
   "metadata": {},
   "outputs": [
    {
     "name": "stdout",
     "output_type": "stream",
     "text": [
      "\n",
      "\n",
      "\u001b[1m> Entering new SequentialChain chain...\u001b[0m\n",
      "\n",
      "\n",
      "\u001b[1m> Entering new LLMChain chain...\u001b[0m\n",
      "Prompt after formatting:\n",
      "\u001b[32;1m\u001b[1;3m\n",
      "Text:Recent progress in generative models have resulted in models that can produce realistic text, images and video that can potentially revolutionize the way humans work, create content and interact with machines. The workshop on Generative AI at AIMLSystems will focus on the entire life-cycle of building and deploying such Generative AI systems, including data collection and processing, developing systems and requisite infrastructure, applications it enables, and the ethics associated with such technology covering concerns related to fairness, transparency and accountability. We invite original, unpublished work on Artificial Intelligence with a focus on generative AI and their use cases. Specifically, the topics of interest include but are not limited to: \n",
      "\n",
      "\n",
      "Systems, architecture and infrastructure for Gen AI\n",
      "Foundation models and their applications\n",
      "Multi-modal Gen AI \n",
      "Retrieval Augmented Generated\n",
      "Gen AI based plugins and agents\n",
      "Learning from human preferences \n",
      "Evaluation of foundation models\n",
      "ML Ops for Gen AI\n",
      "Instruction tuning and instruction following\n",
      "Responsible Gen AI\n",
      "Large language model performance benchmarking\n",
      "You are an expert MCQ maker. Given the above text, it is your job to create a quiz  of 5 multiple choice questions for AI students in Simple tone. \n",
      "Make sure the questions are not repeated and check all the questions to be conforming the text as well.\n",
      "Make sure to format your response like  RESPONSE_JSON below  and use it as a guide. Ensure to make 5 MCQs\n",
      "### RESPONSE_JSON\n",
      "{\"1\": {\"mcq\": \"multiple choice question\", \"options\": {\"a\": \"choice here\", \"b\": \"choice here\", \"c\": \"choice here\", \"d\": \"choice here\"}, \"correct\": \"correct answer\"}, \"2\": {\"mcq\": \"multiple choice question\", \"options\": {\"a\": \"choice here\", \"b\": \"choice here\", \"c\": \"choice here\", \"d\": \"choice here\"}, \"correct\": \"correct answer\"}, \"3\": {\"mcq\": \"multiple choice question\", \"options\": {\"a\": \"choice here\", \"b\": \"choice here\", \"c\": \"choice here\", \"d\": \"choice here\"}, \"correct\": \"correct answer\"}}\n",
      "\n",
      "\u001b[0m\n",
      "\n",
      "\u001b[1m> Finished chain.\u001b[0m\n",
      "\n",
      "\n",
      "\u001b[1m> Entering new LLMChain chain...\u001b[0m\n",
      "Prompt after formatting:\n",
      "\u001b[32;1m\u001b[1;3m\n",
      "You are an expert english grammarian and writer. Given a Multiple Choice Quiz for AI students.You need to evaluate the complexity of the question and give a complete analysis of the quiz. Only use at max 50 words for complexity analysis. \n",
      "if the quiz is not at per with the cognitive and analytical abilities of the students,update the quiz questions which needs to be changed and change the tone such that it perfectly fits the student abilities\n",
      "Quiz_MCQs:\n",
      "\n",
      "{\n",
      "\"1\": {\n",
      "\"mcq\": \"What is the focus of the workshop on Generative AI at AIMLSystems?\",\n",
      "\"options\": {\n",
      "\"a\": \"Building robots\",\n",
      "\"b\": \"Creating realistic text, images, and video\",\n",
      "\"c\": \"Developing mobile apps\",\n",
      "\"d\": \"Designing websites\"\n",
      "},\n",
      "\"correct\": \"b\"\n",
      "},\n",
      "\"2\": {\n",
      "\"mcq\": \"What are some of the topics of interest for the workshop on Generative AI?\",\n",
      "\"options\": {\n",
      "\"a\": \"Cooking recipes\",\n",
      "\"b\": \"Systems, architecture, and infrastructure for Gen AI\",\n",
      "\"c\": \"Sports statistics\",\n",
      "\"d\": \"Fashion design\"\n",
      "},\n",
      "\"correct\": \"b\"\n",
      "},\n",
      "\"3\": {\n",
      "\"mcq\": \"What is one of the applications enabled by Generative AI?\",\n",
      "\"options\": {\n",
      "\"a\": \"Weather forecasting\",\n",
      "\"b\": \"Creating music\",\n",
      "\"c\": \"Building bridges\",\n",
      "\"d\": \"Farming\"\n",
      "},\n",
      "\"correct\": \"b\"\n",
      "},\n",
      "\"4\": {\n",
      "\"mcq\": \"What is a concern related to Generative AI technology?\",\n",
      "\"options\": {\n",
      "\"a\": \"Efficiency\",\n",
      "\"b\": \"Fairness, transparency, and accountability\",\n",
      "\"c\": \"Speed\",\n",
      "\"d\": \"Cost\"\n",
      "},\n",
      "\"correct\": \"b\"\n",
      "},\n",
      "\"5\": {\n",
      "\"mcq\": \"What is one of the topics covered under Responsible Gen AI?\",\n",
      "\"options\": {\n",
      "\"a\": \"Cooking techniques\",\n",
      "\"b\": \"Large language model performance benchmarking\",\n",
      "\"c\": \"Gardening tips\",\n",
      "\"d\": \"Travel recommendations\"\n",
      "},\n",
      "\"correct\": \"b\"\n",
      "}\n",
      "}\n",
      "\n",
      "Check from an expert English Writer of the above quiz:\n",
      "\u001b[0m\n",
      "\n",
      "\u001b[1m> Finished chain.\u001b[0m\n",
      "\n",
      "\u001b[1m> Finished chain.\u001b[0m\n"
     ]
    }
   ],
   "source": [
    "with get_openai_callback() as cb:\n",
    "    response=generate_evaluate_chain(\n",
    "        {\n",
    "            \"text\": TEXT,\n",
    "            \"number\": NUMBER,\n",
    "            \"subject\":SUBJECT,\n",
    "            \"tone\": TONE,\n",
    "            \"RESPONSE_JSON\": response_json_str\n",
    "        }\n",
    "        )"
   ]
  },
  {
   "cell_type": "code",
   "execution_count": 387,
   "metadata": {},
   "outputs": [
    {
     "name": "stdout",
     "output_type": "stream",
     "text": [
      "Total Tokens:1256\n",
      "Prompt Tokens:886\n",
      "Completion Tokens:370\n",
      "Total Cost:0.002069\n"
     ]
    }
   ],
   "source": [
    "print(f\"Total Tokens:{cb.total_tokens}\")\n",
    "print(f\"Prompt Tokens:{cb.prompt_tokens}\")\n",
    "print(f\"Completion Tokens:{cb.completion_tokens}\")\n",
    "print(f\"Total Cost:{cb.total_cost}\")"
   ]
  },
  {
   "cell_type": "code",
   "execution_count": 389,
   "metadata": {},
   "outputs": [
    {
     "data": {
      "text/plain": [
       "{'text': 'Recent progress in generative models have resulted in models that can produce realistic text, images and video that can potentially revolutionize the way humans work, create content and interact with machines. The workshop on Generative AI at AIMLSystems will focus on the entire life-cycle of building and deploying such Generative AI systems, including data collection and processing, developing systems and requisite infrastructure, applications it enables, and the ethics associated with such technology covering concerns related to fairness, transparency and accountability. We invite original, unpublished work on Artificial Intelligence with a focus on generative AI and their use cases. Specifically, the topics of interest include but are not limited to: \\n\\n\\nSystems, architecture and infrastructure for Gen AI\\nFoundation models and their applications\\nMulti-modal Gen AI \\nRetrieval Augmented Generated\\nGen AI based plugins and agents\\nLearning from human preferences \\nEvaluation of foundation models\\nML Ops for Gen AI\\nInstruction tuning and instruction following\\nResponsible Gen AI\\nLarge language model performance benchmarking',\n",
       " 'number': 5,\n",
       " 'subject': 'AI',\n",
       " 'tone': 'Simple',\n",
       " 'RESPONSE_JSON': '{\"1\": {\"mcq\": \"multiple choice question\", \"options\": {\"a\": \"choice here\", \"b\": \"choice here\", \"c\": \"choice here\", \"d\": \"choice here\"}, \"correct\": \"correct answer\"}, \"2\": {\"mcq\": \"multiple choice question\", \"options\": {\"a\": \"choice here\", \"b\": \"choice here\", \"c\": \"choice here\", \"d\": \"choice here\"}, \"correct\": \"correct answer\"}, \"3\": {\"mcq\": \"multiple choice question\", \"options\": {\"a\": \"choice here\", \"b\": \"choice here\", \"c\": \"choice here\", \"d\": \"choice here\"}, \"correct\": \"correct answer\"}}',\n",
       " 'quiz': '\\n{\\n\"1\": {\\n\"mcq\": \"What is the focus of the workshop on Generative AI at AIMLSystems?\",\\n\"options\": {\\n\"a\": \"Building robots\",\\n\"b\": \"Creating realistic text, images, and video\",\\n\"c\": \"Developing mobile apps\",\\n\"d\": \"Designing websites\"\\n},\\n\"correct\": \"b\"\\n},\\n\"2\": {\\n\"mcq\": \"What are some of the topics of interest for the workshop on Generative AI?\",\\n\"options\": {\\n\"a\": \"Cooking recipes\",\\n\"b\": \"Systems, architecture, and infrastructure for Gen AI\",\\n\"c\": \"Sports statistics\",\\n\"d\": \"Fashion design\"\\n},\\n\"correct\": \"b\"\\n},\\n\"3\": {\\n\"mcq\": \"What is one of the applications enabled by Generative AI?\",\\n\"options\": {\\n\"a\": \"Weather forecasting\",\\n\"b\": \"Creating music\",\\n\"c\": \"Building bridges\",\\n\"d\": \"Farming\"\\n},\\n\"correct\": \"b\"\\n},\\n\"4\": {\\n\"mcq\": \"What is a concern related to Generative AI technology?\",\\n\"options\": {\\n\"a\": \"Efficiency\",\\n\"b\": \"Fairness, transparency, and accountability\",\\n\"c\": \"Speed\",\\n\"d\": \"Cost\"\\n},\\n\"correct\": \"b\"\\n},\\n\"5\": {\\n\"mcq\": \"What is one of the topics covered under Responsible Gen AI?\",\\n\"options\": {\\n\"a\": \"Cooking techniques\",\\n\"b\": \"Large language model performance benchmarking\",\\n\"c\": \"Gardening tips\",\\n\"d\": \"Travel recommendations\"\\n},\\n\"correct\": \"b\"\\n}\\n}',\n",
       " 'review': 'The complexity of the quiz is appropriate for AI students, as it tests their knowledge on various aspects of Generative AI. The questions are clear and concise, with options that require critical thinking. No changes are needed.'}"
      ]
     },
     "execution_count": 389,
     "metadata": {},
     "output_type": "execute_result"
    }
   ],
   "source": [
    "response"
   ]
  },
  {
   "cell_type": "code",
   "execution_count": 390,
   "metadata": {},
   "outputs": [],
   "source": [
    "quiz=response.get(\"quiz\")"
   ]
  },
  {
   "cell_type": "code",
   "execution_count": 391,
   "metadata": {},
   "outputs": [],
   "source": [
    "quiz= json.loads(quiz)"
   ]
  },
  {
   "cell_type": "code",
   "execution_count": 392,
   "metadata": {},
   "outputs": [
    {
     "data": {
      "text/plain": [
       "{'1': {'mcq': 'What is the focus of the workshop on Generative AI at AIMLSystems?',\n",
       "  'options': {'a': 'Building robots',\n",
       "   'b': 'Creating realistic text, images, and video',\n",
       "   'c': 'Developing mobile apps',\n",
       "   'd': 'Designing websites'},\n",
       "  'correct': 'b'},\n",
       " '2': {'mcq': 'What are some of the topics of interest for the workshop on Generative AI?',\n",
       "  'options': {'a': 'Cooking recipes',\n",
       "   'b': 'Systems, architecture, and infrastructure for Gen AI',\n",
       "   'c': 'Sports statistics',\n",
       "   'd': 'Fashion design'},\n",
       "  'correct': 'b'},\n",
       " '3': {'mcq': 'What is one of the applications enabled by Generative AI?',\n",
       "  'options': {'a': 'Weather forecasting',\n",
       "   'b': 'Creating music',\n",
       "   'c': 'Building bridges',\n",
       "   'd': 'Farming'},\n",
       "  'correct': 'b'},\n",
       " '4': {'mcq': 'What is a concern related to Generative AI technology?',\n",
       "  'options': {'a': 'Efficiency',\n",
       "   'b': 'Fairness, transparency, and accountability',\n",
       "   'c': 'Speed',\n",
       "   'd': 'Cost'},\n",
       "  'correct': 'b'},\n",
       " '5': {'mcq': 'What is one of the topics covered under Responsible Gen AI?',\n",
       "  'options': {'a': 'Cooking techniques',\n",
       "   'b': 'Large language model performance benchmarking',\n",
       "   'c': 'Gardening tips',\n",
       "   'd': 'Travel recommendations'},\n",
       "  'correct': 'b'}}"
      ]
     },
     "execution_count": 392,
     "metadata": {},
     "output_type": "execute_result"
    }
   ],
   "source": [
    "quiz"
   ]
  },
  {
   "cell_type": "code",
   "execution_count": 393,
   "metadata": {},
   "outputs": [],
   "source": [
    "quiz_table_data = []\n",
    "for key, value in quiz.items():\n",
    "    mcq = value[\"mcq\"]\n",
    "    options = \" | \".join( \n",
    "        [\n",
    "            f\"{option}: {option_value}\"\n",
    "            for option, option_value in value[\"options\"].items()\n",
    "            ]\n",
    "        )\n",
    "    correct = value[\"correct\"]\n",
    "    quiz_table_data.append({\"MCQ\": mcq, \"Choices\": options, \"Correct\": correct})"
   ]
  },
  {
   "cell_type": "code",
   "execution_count": 394,
   "metadata": {},
   "outputs": [
    {
     "data": {
      "text/plain": [
       "[{'MCQ': 'What is the focus of the workshop on Generative AI at AIMLSystems?',\n",
       "  'Choices': 'a: Building robots | b: Creating realistic text, images, and video | c: Developing mobile apps | d: Designing websites',\n",
       "  'Correct': 'b'},\n",
       " {'MCQ': 'What are some of the topics of interest for the workshop on Generative AI?',\n",
       "  'Choices': 'a: Cooking recipes | b: Systems, architecture, and infrastructure for Gen AI | c: Sports statistics | d: Fashion design',\n",
       "  'Correct': 'b'},\n",
       " {'MCQ': 'What is one of the applications enabled by Generative AI?',\n",
       "  'Choices': 'a: Weather forecasting | b: Creating music | c: Building bridges | d: Farming',\n",
       "  'Correct': 'b'},\n",
       " {'MCQ': 'What is a concern related to Generative AI technology?',\n",
       "  'Choices': 'a: Efficiency | b: Fairness, transparency, and accountability | c: Speed | d: Cost',\n",
       "  'Correct': 'b'},\n",
       " {'MCQ': 'What is one of the topics covered under Responsible Gen AI?',\n",
       "  'Choices': 'a: Cooking techniques | b: Large language model performance benchmarking | c: Gardening tips | d: Travel recommendations',\n",
       "  'Correct': 'b'}]"
      ]
     },
     "execution_count": 394,
     "metadata": {},
     "output_type": "execute_result"
    }
   ],
   "source": [
    "quiz_table_data"
   ]
  },
  {
   "cell_type": "code",
   "execution_count": 395,
   "metadata": {},
   "outputs": [],
   "source": [
    "df=pd.DataFrame(quiz_table_data)"
   ]
  },
  {
   "cell_type": "code",
   "execution_count": 396,
   "metadata": {},
   "outputs": [
    {
     "data": {
      "text/html": [
       "<div>\n",
       "<style scoped>\n",
       "    .dataframe tbody tr th:only-of-type {\n",
       "        vertical-align: middle;\n",
       "    }\n",
       "\n",
       "    .dataframe tbody tr th {\n",
       "        vertical-align: top;\n",
       "    }\n",
       "\n",
       "    .dataframe thead th {\n",
       "        text-align: right;\n",
       "    }\n",
       "</style>\n",
       "<table border=\"1\" class=\"dataframe\">\n",
       "  <thead>\n",
       "    <tr style=\"text-align: right;\">\n",
       "      <th></th>\n",
       "      <th>MCQ</th>\n",
       "      <th>Choices</th>\n",
       "      <th>Correct</th>\n",
       "    </tr>\n",
       "  </thead>\n",
       "  <tbody>\n",
       "    <tr>\n",
       "      <th>0</th>\n",
       "      <td>What is the focus of the workshop on Generativ...</td>\n",
       "      <td>a: Building robots | b: Creating realistic tex...</td>\n",
       "      <td>b</td>\n",
       "    </tr>\n",
       "    <tr>\n",
       "      <th>1</th>\n",
       "      <td>What are some of the topics of interest for th...</td>\n",
       "      <td>a: Cooking recipes | b: Systems, architecture,...</td>\n",
       "      <td>b</td>\n",
       "    </tr>\n",
       "    <tr>\n",
       "      <th>2</th>\n",
       "      <td>What is one of the applications enabled by Gen...</td>\n",
       "      <td>a: Weather forecasting | b: Creating music | c...</td>\n",
       "      <td>b</td>\n",
       "    </tr>\n",
       "    <tr>\n",
       "      <th>3</th>\n",
       "      <td>What is a concern related to Generative AI tec...</td>\n",
       "      <td>a: Efficiency | b: Fairness, transparency, and...</td>\n",
       "      <td>b</td>\n",
       "    </tr>\n",
       "    <tr>\n",
       "      <th>4</th>\n",
       "      <td>What is one of the topics covered under Respon...</td>\n",
       "      <td>a: Cooking techniques | b: Large language mode...</td>\n",
       "      <td>b</td>\n",
       "    </tr>\n",
       "  </tbody>\n",
       "</table>\n",
       "</div>"
      ],
      "text/plain": [
       "                                                 MCQ  \\\n",
       "0  What is the focus of the workshop on Generativ...   \n",
       "1  What are some of the topics of interest for th...   \n",
       "2  What is one of the applications enabled by Gen...   \n",
       "3  What is a concern related to Generative AI tec...   \n",
       "4  What is one of the topics covered under Respon...   \n",
       "\n",
       "                                             Choices Correct  \n",
       "0  a: Building robots | b: Creating realistic tex...       b  \n",
       "1  a: Cooking recipes | b: Systems, architecture,...       b  \n",
       "2  a: Weather forecasting | b: Creating music | c...       b  \n",
       "3  a: Efficiency | b: Fairness, transparency, and...       b  \n",
       "4  a: Cooking techniques | b: Large language mode...       b  "
      ]
     },
     "execution_count": 396,
     "metadata": {},
     "output_type": "execute_result"
    }
   ],
   "source": [
    "df"
   ]
  },
  {
   "cell_type": "code",
   "execution_count": 220,
   "metadata": {},
   "outputs": [],
   "source": [
    "df.to_csv(\"genai.csv\", index=False)"
   ]
  },
  {
   "cell_type": "code",
   "execution_count": null,
   "metadata": {},
   "outputs": [],
   "source": []
  }
 ],
 "metadata": {
  "kernelspec": {
   "display_name": "GenAi-venv",
   "language": "python",
   "name": "python3"
  },
  "language_info": {
   "codemirror_mode": {
    "name": "ipython",
    "version": 3
   },
   "file_extension": ".py",
   "mimetype": "text/x-python",
   "name": "python",
   "nbconvert_exporter": "python",
   "pygments_lexer": "ipython3",
   "version": "3.10.7"
  }
 },
 "nbformat": 4,
 "nbformat_minor": 2
}
